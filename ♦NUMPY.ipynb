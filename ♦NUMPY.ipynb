{
 "cells": [
  {
   "cell_type": "code",
   "execution_count": 3,
   "id": "c2c9ca64",
   "metadata": {},
   "outputs": [],
   "source": [
    "import numpy as np"
   ]
  },
  {
   "cell_type": "code",
   "execution_count": null,
   "id": "07115f44",
   "metadata": {},
   "outputs": [],
   "source": [
    "Multi-DImensional Array"
   ]
  },
  {
   "cell_type": "code",
   "execution_count": 4,
   "id": "e9f33ff1",
   "metadata": {},
   "outputs": [],
   "source": [
    "AAA=np.array([[[10,20,30]]])"
   ]
  },
  {
   "cell_type": "code",
   "execution_count": 5,
   "id": "8e0be1dd",
   "metadata": {
    "scrolled": true
   },
   "outputs": [
    {
     "data": {
      "text/plain": [
       "10"
      ]
     },
     "execution_count": 5,
     "metadata": {},
     "output_type": "execute_result"
    }
   ],
   "source": [
    "AAA[0][0][0]"
   ]
  },
  {
   "cell_type": "code",
   "execution_count": 6,
   "id": "ad5b77b8",
   "metadata": {},
   "outputs": [
    {
     "data": {
      "text/plain": [
       "array([10, 20, 30])"
      ]
     },
     "execution_count": 6,
     "metadata": {},
     "output_type": "execute_result"
    }
   ],
   "source": [
    "AAA[0][0]"
   ]
  },
  {
   "cell_type": "code",
   "execution_count": 7,
   "id": "2d93eb05",
   "metadata": {},
   "outputs": [
    {
     "data": {
      "text/plain": [
       "dtype('int32')"
      ]
     },
     "execution_count": 7,
     "metadata": {},
     "output_type": "execute_result"
    }
   ],
   "source": [
    "AAA.dtype"
   ]
  },
  {
   "cell_type": "code",
   "execution_count": 8,
   "id": "396e67ce",
   "metadata": {},
   "outputs": [
    {
     "data": {
      "text/plain": [
       "(1, 1, 3)"
      ]
     },
     "execution_count": 8,
     "metadata": {},
     "output_type": "execute_result"
    }
   ],
   "source": [
    "AAA.shape"
   ]
  },
  {
   "cell_type": "code",
   "execution_count": 11,
   "id": "eac882f3",
   "metadata": {},
   "outputs": [
    {
     "data": {
      "text/plain": [
       "3"
      ]
     },
     "execution_count": 11,
     "metadata": {},
     "output_type": "execute_result"
    }
   ],
   "source": [
    "AAA.size # Row into column value"
   ]
  },
  {
   "cell_type": "code",
   "execution_count": 12,
   "id": "576f4a8b",
   "metadata": {
    "scrolled": true
   },
   "outputs": [
    {
     "data": {
      "text/plain": [
       "3"
      ]
     },
     "execution_count": 12,
     "metadata": {},
     "output_type": "execute_result"
    }
   ],
   "source": [
    "AAA.ndim"
   ]
  },
  {
   "cell_type": "code",
   "execution_count": 13,
   "id": "fdc48971",
   "metadata": {},
   "outputs": [],
   "source": [
    "AA=np.array([[10,20,30],[23,55,15]])"
   ]
  },
  {
   "cell_type": "code",
   "execution_count": 15,
   "id": "e7ad3586",
   "metadata": {
    "scrolled": true
   },
   "outputs": [
    {
     "data": {
      "text/plain": [
       "(2, 3)"
      ]
     },
     "execution_count": 15,
     "metadata": {},
     "output_type": "execute_result"
    }
   ],
   "source": [
    "AA.shape"
   ]
  },
  {
   "cell_type": "code",
   "execution_count": 16,
   "id": "07862b83",
   "metadata": {},
   "outputs": [
    {
     "data": {
      "text/plain": [
       "6"
      ]
     },
     "execution_count": 16,
     "metadata": {},
     "output_type": "execute_result"
    }
   ],
   "source": [
    "AA.size"
   ]
  },
  {
   "cell_type": "code",
   "execution_count": 18,
   "id": "48754661",
   "metadata": {
    "scrolled": true
   },
   "outputs": [
    {
     "data": {
      "text/plain": [
       "10"
      ]
     },
     "execution_count": 18,
     "metadata": {},
     "output_type": "execute_result"
    }
   ],
   "source": [
    "AA[0][0]"
   ]
  },
  {
   "cell_type": "code",
   "execution_count": 20,
   "id": "fabdb96d",
   "metadata": {},
   "outputs": [
    {
     "data": {
      "text/plain": [
       "array([10, 20, 30])"
      ]
     },
     "execution_count": 20,
     "metadata": {},
     "output_type": "execute_result"
    }
   ],
   "source": [
    "AA[0]"
   ]
  },
  {
   "cell_type": "code",
   "execution_count": 21,
   "id": "75ae2d6c",
   "metadata": {},
   "outputs": [],
   "source": [
    "A=np.array([10,20,30])"
   ]
  },
  {
   "cell_type": "code",
   "execution_count": 22,
   "id": "775c5749",
   "metadata": {},
   "outputs": [
    {
     "data": {
      "text/plain": [
       "array([10, 20, 30])"
      ]
     },
     "execution_count": 22,
     "metadata": {},
     "output_type": "execute_result"
    }
   ],
   "source": [
    "A"
   ]
  },
  {
   "cell_type": "code",
   "execution_count": 23,
   "id": "0ef95af4",
   "metadata": {},
   "outputs": [
    {
     "data": {
      "text/plain": [
       "10"
      ]
     },
     "execution_count": 23,
     "metadata": {},
     "output_type": "execute_result"
    }
   ],
   "source": [
    "A[0]"
   ]
  },
  {
   "cell_type": "code",
   "execution_count": 24,
   "id": "b45d3663",
   "metadata": {
    "scrolled": true
   },
   "outputs": [
    {
     "data": {
      "text/plain": [
       "(3,)"
      ]
     },
     "execution_count": 24,
     "metadata": {},
     "output_type": "execute_result"
    }
   ],
   "source": [
    "A.shape"
   ]
  },
  {
   "cell_type": "code",
   "execution_count": 25,
   "id": "31418dbc",
   "metadata": {},
   "outputs": [
    {
     "data": {
      "text/plain": [
       "3"
      ]
     },
     "execution_count": 25,
     "metadata": {},
     "output_type": "execute_result"
    }
   ],
   "source": [
    "A.size"
   ]
  },
  {
   "cell_type": "code",
   "execution_count": 50,
   "id": "a60011ae",
   "metadata": {},
   "outputs": [],
   "source": [
    "BB=np.zeros((2,3,2))\n"
   ]
  },
  {
   "cell_type": "code",
   "execution_count": 29,
   "id": "1000c3ca",
   "metadata": {},
   "outputs": [],
   "source": [
    "AA=np.array([[10,20,30,],[23,55,15]],dtype=float)"
   ]
  },
  {
   "cell_type": "code",
   "execution_count": 30,
   "id": "ff6055e1",
   "metadata": {},
   "outputs": [
    {
     "data": {
      "text/plain": [
       "array([[10., 20., 30.],\n",
       "       [23., 55., 15.]])"
      ]
     },
     "execution_count": 30,
     "metadata": {},
     "output_type": "execute_result"
    }
   ],
   "source": [
    "AA"
   ]
  },
  {
   "cell_type": "code",
   "execution_count": 37,
   "id": "50d8543f",
   "metadata": {},
   "outputs": [],
   "source": [
    "LLL=(\n",
    "    \n",
    "    [\n",
    "      \n",
    "        [\n",
    "            [10,20,30,40],[8,8,2,1],[1,1,1,2]\n",
    "        ],\n",
    "        \n",
    "        \n",
    "        [\n",
    "            [9,9,2,39],[1,2,3,3],[0,0,3,2]\n",
    "        ],\n",
    "        \n",
    "        \n",
    "        [\n",
    "            [12,33,22,1],[22,1,22,2],[0,2,3,1]\n",
    "        ],\n",
    "    ]\n",
    "    \n",
    "    )"
   ]
  },
  {
   "cell_type": "code",
   "execution_count": 39,
   "id": "6f42e1c7",
   "metadata": {},
   "outputs": [],
   "source": [
    "AAA1=np.array(\n",
    "    \n",
    "    [\n",
    "      \n",
    "        [\n",
    "            [10,20,30,40],[8,8,2,1],[1,1,1,2]\n",
    "        ],\n",
    "        \n",
    "        \n",
    "        [\n",
    "            [9,9,2,39],[1,2,3,3],[0,0,3,2]\n",
    "        ],\n",
    "        \n",
    "        \n",
    "        [\n",
    "            [12,33,22,1],[22,1,22,2],[0,2,3,1]\n",
    "        ],\n",
    "    ]\n",
    "    \n",
    "    )"
   ]
  },
  {
   "cell_type": "code",
   "execution_count": 40,
   "id": "5e8cacc4",
   "metadata": {},
   "outputs": [
    {
     "data": {
      "text/plain": [
       "array([[[10, 20, 30, 40],\n",
       "        [ 8,  8,  2,  1],\n",
       "        [ 1,  1,  1,  2]],\n",
       "\n",
       "       [[ 9,  9,  2, 39],\n",
       "        [ 1,  2,  3,  3],\n",
       "        [ 0,  0,  3,  2]],\n",
       "\n",
       "       [[12, 33, 22,  1],\n",
       "        [22,  1, 22,  2],\n",
       "        [ 0,  2,  3,  1]]])"
      ]
     },
     "execution_count": 40,
     "metadata": {},
     "output_type": "execute_result"
    }
   ],
   "source": [
    "AAA1"
   ]
  },
  {
   "cell_type": "code",
   "execution_count": 41,
   "id": "50167f59",
   "metadata": {
    "scrolled": true
   },
   "outputs": [
    {
     "data": {
      "text/plain": [
       "(3, 3, 4)"
      ]
     },
     "execution_count": 41,
     "metadata": {},
     "output_type": "execute_result"
    }
   ],
   "source": [
    "AAA1.shape"
   ]
  },
  {
   "cell_type": "code",
   "execution_count": 42,
   "id": "eda87b91",
   "metadata": {},
   "outputs": [
    {
     "data": {
      "text/plain": [
       "3"
      ]
     },
     "execution_count": 42,
     "metadata": {},
     "output_type": "execute_result"
    }
   ],
   "source": [
    "AAA1.ndim"
   ]
  },
  {
   "cell_type": "code",
   "execution_count": 43,
   "id": "6aaaa1be",
   "metadata": {},
   "outputs": [
    {
     "data": {
      "text/plain": [
       "(3, 3, 4)"
      ]
     },
     "execution_count": 43,
     "metadata": {},
     "output_type": "execute_result"
    }
   ],
   "source": [
    "AAA1.shape"
   ]
  },
  {
   "cell_type": "code",
   "execution_count": 44,
   "id": "686806fd",
   "metadata": {},
   "outputs": [
    {
     "data": {
      "text/plain": [
       "1"
      ]
     },
     "execution_count": 44,
     "metadata": {},
     "output_type": "execute_result"
    }
   ],
   "source": [
    "AAA1[2][2][3]"
   ]
  },
  {
   "cell_type": "markdown",
   "id": "3b9d142f",
   "metadata": {},
   "source": [
    "by default numpy is <font size=6><b>.,</b></font> format even if it is integer"
   ]
  },
  {
   "cell_type": "code",
   "execution_count": 47,
   "id": "a2e9a72c",
   "metadata": {},
   "outputs": [],
   "source": [
    "AAAe=np.exp(AAA)"
   ]
  },
  {
   "cell_type": "code",
   "execution_count": 48,
   "id": "3b1c77f2",
   "metadata": {},
   "outputs": [],
   "source": [
    "np.set_printoptions(suppress=True)"
   ]
  },
  {
   "cell_type": "code",
   "execution_count": 49,
   "id": "de483d15",
   "metadata": {},
   "outputs": [
    {
     "data": {
      "text/plain": [
       "array([[[2.20264658e+04, 4.85165195e+08, 1.06864746e+13, 2.35385267e+17],\n",
       "        [2.98095799e+03, 2.98095799e+03, 7.38905610e+00, 2.71828183e+00],\n",
       "        [2.71828183e+00, 2.71828183e+00, 2.71828183e+00, 7.38905610e+00]],\n",
       "\n",
       "       [[8.10308393e+03, 8.10308393e+03, 7.38905610e+00, 8.65934004e+16],\n",
       "        [2.71828183e+00, 7.38905610e+00, 2.00855369e+01, 2.00855369e+01],\n",
       "        [1.00000000e+00, 1.00000000e+00, 2.00855369e+01, 7.38905610e+00]],\n",
       "\n",
       "       [[1.62754791e+05, 2.14643580e+14, 3.58491285e+09, 2.71828183e+00],\n",
       "        [3.58491285e+09, 2.71828183e+00, 3.58491285e+09, 7.38905610e+00],\n",
       "        [1.00000000e+00, 7.38905610e+00, 2.00855369e+01, 2.71828183e+00]]])"
      ]
     },
     "execution_count": 49,
     "metadata": {},
     "output_type": "execute_result"
    }
   ],
   "source": [
    "AAAe"
   ]
  },
  {
   "cell_type": "code",
   "execution_count": 51,
   "id": "6319df2b",
   "metadata": {},
   "outputs": [
    {
     "data": {
      "text/plain": [
       "array([[[0., 0.],\n",
       "        [0., 0.],\n",
       "        [0., 0.]],\n",
       "\n",
       "       [[0., 0.],\n",
       "        [0., 0.],\n",
       "        [0., 0.]]])"
      ]
     },
     "execution_count": 51,
     "metadata": {},
     "output_type": "execute_result"
    }
   ],
   "source": [
    "BB"
   ]
  },
  {
   "cell_type": "code",
   "execution_count": 52,
   "id": "1690065d",
   "metadata": {},
   "outputs": [
    {
     "data": {
      "text/plain": [
       "array([[[3.16227766, 4.47213595, 5.47722558, 6.32455532],\n",
       "        [2.82842712, 2.82842712, 1.41421356, 1.        ],\n",
       "        [1.        , 1.        , 1.        , 1.41421356]],\n",
       "\n",
       "       [[3.        , 3.        , 1.41421356, 6.244998  ],\n",
       "        [1.        , 1.41421356, 1.73205081, 1.73205081],\n",
       "        [0.        , 0.        , 1.73205081, 1.41421356]],\n",
       "\n",
       "       [[3.46410162, 5.74456265, 4.69041576, 1.        ],\n",
       "        [4.69041576, 1.        , 4.69041576, 1.41421356],\n",
       "        [0.        , 1.41421356, 1.73205081, 1.        ]]])"
      ]
     },
     "execution_count": 52,
     "metadata": {},
     "output_type": "execute_result"
    }
   ],
   "source": [
    "np.sqrt(AAA)"
   ]
  },
  {
   "cell_type": "code",
   "execution_count": 53,
   "id": "aa67177e",
   "metadata": {},
   "outputs": [
    {
     "data": {
      "text/plain": [
       "318"
      ]
     },
     "execution_count": 53,
     "metadata": {},
     "output_type": "execute_result"
    }
   ],
   "source": [
    "AAA.sum()"
   ]
  },
  {
   "cell_type": "code",
   "execution_count": 54,
   "id": "27c0679d",
   "metadata": {},
   "outputs": [
    {
     "data": {
      "text/plain": [
       "0"
      ]
     },
     "execution_count": 54,
     "metadata": {},
     "output_type": "execute_result"
    }
   ],
   "source": [
    "AAA.min()"
   ]
  },
  {
   "cell_type": "code",
   "execution_count": 55,
   "id": "8c2c599e",
   "metadata": {},
   "outputs": [
    {
     "data": {
      "text/plain": [
       "40"
      ]
     },
     "execution_count": 55,
     "metadata": {},
     "output_type": "execute_result"
    }
   ],
   "source": [
    "AAA.max()"
   ]
  },
  {
   "cell_type": "code",
   "execution_count": 57,
   "id": "e3450da5",
   "metadata": {},
   "outputs": [
    {
     "data": {
      "text/plain": [
       "8.833333333333334"
      ]
     },
     "execution_count": 57,
     "metadata": {},
     "output_type": "execute_result"
    }
   ],
   "source": [
    "AAA.mean() #of all values"
   ]
  },
  {
   "cell_type": "code",
   "execution_count": 59,
   "id": "b0fd5a29",
   "metadata": {},
   "outputs": [
    {
     "data": {
      "text/plain": [
       "2.5"
      ]
     },
     "execution_count": 59,
     "metadata": {},
     "output_type": "execute_result"
    }
   ],
   "source": [
    "np.median(AAA)"
   ]
  },
  {
   "cell_type": "code",
   "execution_count": 61,
   "id": "fc000259",
   "metadata": {},
   "outputs": [
    {
     "data": {
      "text/plain": [
       "11.49758428733812"
      ]
     },
     "execution_count": 61,
     "metadata": {},
     "output_type": "execute_result"
    }
   ],
   "source": [
    "np.std(AAA) #Std deviation"
   ]
  },
  {
   "cell_type": "code",
   "execution_count": 63,
   "id": "216c40fa",
   "metadata": {},
   "outputs": [
    {
     "ename": "NameError",
     "evalue": "name 'b_linspace2' is not defined",
     "output_type": "error",
     "traceback": [
      "\u001b[1;31m---------------------------------------------------------------------------\u001b[0m",
      "\u001b[1;31mNameError\u001b[0m                                 Traceback (most recent call last)",
      "\u001b[1;32m~\\AppData\\Local\\Temp\\ipykernel_6596\\313074721.py\u001b[0m in \u001b[0;36m<module>\u001b[1;34m\u001b[0m\n\u001b[1;32m----> 1\u001b[1;33m \u001b[0mnp\u001b[0m\u001b[1;33m.\u001b[0m\u001b[0mmedian\u001b[0m\u001b[1;33m(\u001b[0m\u001b[0mb_linspace2\u001b[0m\u001b[1;33m)\u001b[0m\u001b[1;33m\u001b[0m\u001b[1;33m\u001b[0m\u001b[0m\n\u001b[0m",
      "\u001b[1;31mNameError\u001b[0m: name 'b_linspace2' is not defined"
     ]
    }
   ],
   "source": [
    "np.median(b_linspace2)"
   ]
  }
 ],
 "metadata": {
  "kernelspec": {
   "display_name": "Python 3 (ipykernel)",
   "language": "python",
   "name": "python3"
  },
  "language_info": {
   "codemirror_mode": {
    "name": "ipython",
    "version": 3
   },
   "file_extension": ".py",
   "mimetype": "text/x-python",
   "name": "python",
   "nbconvert_exporter": "python",
   "pygments_lexer": "ipython3",
   "version": "3.9.13"
  }
 },
 "nbformat": 4,
 "nbformat_minor": 5
}
